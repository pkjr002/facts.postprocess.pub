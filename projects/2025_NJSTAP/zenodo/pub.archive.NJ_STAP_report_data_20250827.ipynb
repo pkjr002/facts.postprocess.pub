{
 "cells": [
  {
   "cell_type": "markdown",
   "metadata": {},
   "source": [
    "\n",
    "<p style=\"font-size: 24pt; color: blue; font-family: 'Times New Roman';\">\n",
    "    This notebook takes the output from the postprocess, and adds them to a tar archive. \n",
    "</p>\n"
   ]
  },
  {
   "cell_type": "code",
   "execution_count": null,
   "metadata": {},
   "outputs": [],
   "source": [
    "import shutil \n",
    "import os\n",
    "#\n",
    "PD=os. getcwd() "
   ]
  },
  {
   "cell_type": "code",
   "execution_count": null,
   "metadata": {},
   "outputs": [],
   "source": [
    "# Create the Main EXP Output folder.\n",
    "folderEXP0 = f'{PD}/NJ_STAP_report_data_20250827' \n",
    "#\n",
    "if os.path.exists(folderEXP0): \n",
    "    shutil.rmtree(folderEXP0)\n",
    "os.makedirs(folderEXP0)"
   ]
  },
  {
   "cell_type": "markdown",
   "metadata": {},
   "source": [
    "<p style=\"font-size: 16pt;font-family: 'Times New Roman'; color:blue;\">\n",
    "    <b>CREATE::</b> &nbsp  \n",
    "    <span style=\" color:green;\"> \n",
    "    destination PATHs \n",
    "</p>"
   ]
  },
  {
   "cell_type": "code",
   "execution_count": null,
   "metadata": {},
   "outputs": [],
   "source": [
    "# Global / Regional folders.\n",
    "folderEXP_Glb = f'{folderEXP0}/global' \n",
    "folderEXP_Loc = f'{folderEXP0}/regional'\n",
    "os.makedirs(folderEXP_Glb) \n",
    "os.makedirs(folderEXP_Loc) "
   ]
  },
  {
   "cell_type": "markdown",
   "metadata": {},
   "source": [
    "<p style=\"font-size: 16pt;font-family: 'Times New Roman'; color:blue;\">\n",
    "    <b>SPECIFY::</b> &nbsp  \n",
    "    <span style=\" color:green;\">  \n",
    "    source PATH  \n",
    "    </span>\n",
    "</p>"
   ]
  },
  {
   "cell_type": "code",
   "execution_count": null,
   "metadata": {},
   "outputs": [],
   "source": [
    "Loc_src           = \"/4_confidence_level_files\"\n",
    "Loc_src_rate      = \"/4_confidence_level_files_rates\"\n",
    "Loc_src_xcdance   = \"/4_confidence_level_files_xcdance\"\n",
    "#\n",
    "Glb_src           = \"/4_confidence_level_files\"\n",
    "Glb_src_rate      = \"/4_confidence_level_files_rates\"\n",
    "Glb_src_xcdance   = \"/4_confidence_level_files_xcdance\""
   ]
  },
  {
   "cell_type": "markdown",
   "metadata": {},
   "source": [
    "<p style=\"font-size: 16pt;font-family: 'Times New Roman'; color:blue;\">\n",
    "    <b>CP::</b> &nbsp  \n",
    "    <span style=\" color:green;\">  \n",
    "    contents of CL (med and low) \n",
    "    </span> &nbsp; file from source ==> destination\n",
    "</p>"
   ]
  },
  {
   "cell_type": "code",
   "execution_count": null,
   "metadata": {},
   "outputs": [],
   "source": [
    "shutil.copytree(Loc_src, folderEXP_Loc, dirs_exist_ok=True)\n",
    "shutil.copytree(Loc_src_rate, folderEXP_Loc, dirs_exist_ok=True)\n",
    "shutil.copytree(Loc_src_xcdance, folderEXP_Loc, dirs_exist_ok=True)\n",
    "#\n",
    "shutil.copytree(Glb_src, folderEXP_Glb, dirs_exist_ok=True)\n",
    "shutil.copytree(Glb_src_rate, folderEXP_Glb, dirs_exist_ok=True)\n",
    "shutil.copytree(Glb_src_xcdance, folderEXP_Glb, dirs_exist_ok=True)"
   ]
  },
  {
   "cell_type": "markdown",
   "metadata": {},
   "source": [
    "<p style=\"font-size: 16pt;font-family: 'Times New Roman'; color:blue;\">\n",
    "    <b>Create::</b> &nbsp  \n",
    "    <span style=\" color:green;\">  \n",
    "    *.tgz\n",
    "    </span> &nbsp; file\n",
    "</p>"
   ]
  },
  {
   "cell_type": "code",
   "execution_count": null,
   "metadata": {},
   "outputs": [],
   "source": [
    "# import os; import tarfile; import shutil\n",
    "# tar_file=f'{PD}/{os.path.basename(folderEXP0)}.tgz'\n",
    "# if os.path.isfile(tar_file): os.remove(tar_file)\n",
    "# #\n",
    "# with tarfile.open(tar_file, 'w:gz') as tar:\n",
    "#     tar.add(folderEXP0,arcname=os.path.basename(folderEXP0))\n",
    "# # remove the folder that was just archived.    \n",
    "# # shutil.rmtree(folderEXP0)"
   ]
  },
  {
   "cell_type": "markdown",
   "metadata": {},
   "source": [
    "<p style=\"font-size: 16pt;font-family: 'Times New Roman'; color:blue;\">\n",
    "    <b>un-TAR::</b> &nbsp  \n",
    "    <span style=\" color:green;\">  \n",
    "    contents of *.tgz\n",
    "    </span> &nbsp; file\n",
    "</p>"
   ]
  },
  {
   "cell_type": "code",
   "execution_count": null,
   "metadata": {},
   "outputs": [],
   "source": [
    "# # Extract the files. \n",
    "# with tarfile.open(tar_file, 'r:gz') as tar:\n",
    "#     tar.extractall(path=PD)"
   ]
  }
 ],
 "metadata": {
  "kernelspec": {
   "display_name": "plot_M2nu",
   "language": "python",
   "name": "plot_m2nu"
  },
  "language_info": {
   "codemirror_mode": {
    "name": "ipython",
    "version": 3
   },
   "file_extension": ".py",
   "mimetype": "text/x-python",
   "name": "python",
   "nbconvert_exporter": "python",
   "pygments_lexer": "ipython3",
   "version": "3.12.11"
  },
  "vscode": {
   "interpreter": {
    "hash": "adc634733d73b0796380be3dda2ecd8c29414439860d566d764cbd379022a65e"
   }
  }
 },
 "nbformat": 4,
 "nbformat_minor": 2
}
