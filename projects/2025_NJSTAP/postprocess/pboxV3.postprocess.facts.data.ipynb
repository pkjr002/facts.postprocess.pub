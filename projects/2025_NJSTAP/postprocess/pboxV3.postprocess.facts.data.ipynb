{
 "cells": [
  {
   "cell_type": "markdown",
   "metadata": {},
   "source": [
    "<span style=\"font-size:24pt; color:blue; font-family: 'Times New Roman'\">Notebook:: \n",
    "    <span style=\"color:green;\"> To post-process FACTS experiment level data </span>\n",
    "</span>\n",
    "<br>\n",
    "<span style=\"font-size:12pt; color:black; font-family:Georgia, serif;font-style:italic\">by Praveen Kumar </span>\n",
    "<br>"
   ]
  },
  {
   "cell_type": "markdown",
   "metadata": {},
   "source": [
    "<p style=\"background-color: black;\"> . </p>"
   ]
  },
  {
   "cell_type": "markdown",
   "metadata": {},
   "source": [
    "---\n",
    "## <font color=red> 1. Merge WAIS and EAIS  </font>\n",
    "---"
   ]
  },
  {
   "cell_type": "code",
   "execution_count": 1,
   "metadata": {},
   "outputs": [],
   "source": [
    "# import xarray as xr\n",
    "\n",
    "# def AIS_merge(exp0, path):\n",
    "#     files = [f'{exp0}.ar5AIS.ipccar5.icesheets_EAIS_localsl.nc',\n",
    "#              f'{exp0}.ar5AIS.ipccar5.icesheets_WAIS_localsl.nc']\n",
    "    \n",
    "#     d_nc1, d_nc2 = [xr.open_dataset(path + f) for f in files]\n",
    "#     d_nc1['sea_level_change'] = d_nc1['sea_level_change'] + d_nc2['sea_level_change']\n",
    "#     d_nc1.to_netcdf(path + f'{exp0}.ar5AIS.ipccar5.icesheets_AIS_localsl.nc')"
   ]
  },
  {
   "cell_type": "code",
   "execution_count": null,
   "metadata": {},
   "outputs": [],
   "source": [
    "# ssps=['ssp119','ssp126','ssp245','ssp370','ssp585']\n",
    "# for ssp0,ssp1 in enumerate(ssps):\n",
    "#     exp0 = f'coupling.{ssp1}';\n",
    "#     path=f'/scratch/usr/FACTS/2024.08.NJ/facts/experiments.nj/{exp0}/output/'\n",
    "#     AIS_merge(exp0,path)"
   ]
  },
  {
   "cell_type": "markdown",
   "metadata": {},
   "source": [
    "---\n",
    "## <font color=red> 1.1. Local OR Global  </font>  \n",
    "---\n",
    "\n",
    "==> set region = \"global\"/\"local\" in `fun_postprocess_facts.py` and also in pbox fun `create_pbox_from_component` \n",
    "\n",
    "==> also change what exp you are processing in `def postprocess`"
   ]
  },
  {
   "cell_type": "markdown",
   "metadata": {},
   "source": [
    "---\n",
    "## <font color=red> 2. Post-Process  </font>\n",
    "---"
   ]
  },
  {
   "cell_type": "code",
   "execution_count": null,
   "metadata": {},
   "outputs": [],
   "source": [
    "import shutil\n",
    "import os\n",
    "import fun_postprocess_facts as fn\n",
    "#\n",
    "ssps=[\"ssp119\",\"ssp126\",\"ssp245\",\"ssp370\",\"ssp585\"]\n",
    "#\n",
    "workflow = [\"wf_1e\",\"wf_1f\",\"wf_2e\",\"wf_2f\",\"wf_3e\", \"wf_3f\", \"wf_4\"]\n",
    "#\n",
    "expFolder=\"/scratch/usr/FACTS/2024.08.NJ/facts/experiments.nj\""
   ]
  },
  {
   "cell_type": "markdown",
   "metadata": {},
   "source": [
    "---\n",
    "## <font color=red> Generate:: 1_workflow  </font>\n",
    "---"
   ]
  },
  {
   "cell_type": "code",
   "execution_count": 6,
   "metadata": {},
   "outputs": [],
   "source": [
    "fn.postprocess(workflow, ssps, expFolder, \"1_workflow\", \"create_workflow_folder\")            "
   ]
  },
  {
   "cell_type": "code",
   "execution_count": 8,
   "metadata": {},
   "outputs": [],
   "source": [
    "fn.postprocess(workflow, ssps, expFolder, \"1_workflow_rates\", \"create_workflow_rates\")            "
   ]
  },
  {
   "cell_type": "markdown",
   "metadata": {},
   "source": [
    "---\n",
    "## <font color=red> Generate:: 2_workflow_quantiles  </font>\n",
    "---"
   ]
  },
  {
   "cell_type": "code",
   "execution_count": 10,
   "metadata": {},
   "outputs": [],
   "source": [
    "fn.postprocess(workflow, ssps, expFolder, \"2_workflow_quantiles\", \"convert_workflow_samples_to_quantiles\")            "
   ]
  },
  {
   "cell_type": "code",
   "execution_count": 12,
   "metadata": {},
   "outputs": [],
   "source": [
    "fn.postprocess(workflow, ssps, expFolder, \"2_workflow_quantiles_rates\", \"convert_workflow_rates_to_quantiles\")            "
   ]
  },
  {
   "cell_type": "markdown",
   "metadata": {},
   "source": [
    "---\n",
    "## <font color=red> Generate:: 003_pbox  </font>\n",
    "---"
   ]
  },
  {
   "cell_type": "code",
   "execution_count": 14,
   "metadata": {},
   "outputs": [],
   "source": [
    "pbox = [\"pb_1e\", \"pb_1f\", \"pb_2e\", \"pb_2f\"]\n",
    "outFolderName=\"3_pbox\"\n",
    "fn.process_pbox(pbox,outFolderName,ssps)"
   ]
  },
  {
   "cell_type": "code",
   "execution_count": 16,
   "metadata": {},
   "outputs": [],
   "source": [
    "pbox = [\"pb_1e\", \"pb_1f\", \"pb_2e\", \"pb_2f\"]\n",
    "outFolderName=\"3_pbox_rates\"\n",
    "fn.process_pbox(pbox,outFolderName,ssps)"
   ]
  },
  {
   "cell_type": "markdown",
   "metadata": {},
   "source": [
    "---\n",
    "## <font color=red> Generate:: 004_confidence_level_files  </font>\n",
    "---"
   ]
  },
  {
   "cell_type": "code",
   "execution_count": 19,
   "metadata": {},
   "outputs": [],
   "source": [
    "pboxdir=os.getcwd()+'/3_pbox'\n",
    "outdir = fn.create_directory_structure(os.getcwd(),'4_confidence_level_files')[0]\n",
    "fn.GenerateConfidenceFiles(pboxdir, outdir)"
   ]
  },
  {
   "cell_type": "code",
   "execution_count": 21,
   "metadata": {},
   "outputs": [],
   "source": [
    "pboxdir=os.getcwd()+'/3_pbox_rates'\n",
    "outdir = fn.create_directory_structure(os.getcwd(),'4_confidence_level_files_rates')[0]\n",
    "fn.GenerateConfidenceFiles(pboxdir, outdir)"
   ]
  }
 ],
 "metadata": {
  "kernelspec": {
   "display_name": "plot_M2",
   "language": "python",
   "name": "python3"
  },
  "language_info": {
   "codemirror_mode": {
    "name": "ipython",
    "version": 3
   },
   "file_extension": ".py",
   "mimetype": "text/x-python",
   "name": "python",
   "nbconvert_exporter": "python",
   "pygments_lexer": "ipython3",
   "version": "3.9.18"
  }
 },
 "nbformat": 4,
 "nbformat_minor": 2
}
