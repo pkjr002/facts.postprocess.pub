{
 "cells": [
  {
   "cell_type": "markdown",
   "metadata": {},
   "source": [
    "---\n",
    "## <font color=red> 2. Post-Process: <font color=blue> Years Of Exceedance  </font>  </font>\n",
    "---"
   ]
  },
  {
   "cell_type": "code",
   "execution_count": null,
   "metadata": {},
   "outputs": [],
   "source": [
    "import shutil\n",
    "import os\n",
    "import fun_postprocess_facts_data_yearOFexceedance as fn"
   ]
  },
  {
   "cell_type": "code",
   "execution_count": null,
   "metadata": {
    "scrolled": false
   },
   "outputs": [],
   "source": [
    "#\n",
    "ssps=[\"ssp119\",\"ssp126\",\"ssp245\",\"ssp370\",\"ssp585\"]\n",
    "\n",
    "workflow = [\"wf_1e\",\"wf_1f\",\"wf_2e\",\"wf_2f\",\"wf_3e\", \"wf_3f\", \"wf_4\"]\n",
    "#\n",
    "expFolder=\"/scratch/usr/FACTS/2024.08.NJ/facts/experiments.nj\""
   ]
  },
  {
   "cell_type": "markdown",
   "metadata": {},
   "source": [
    "## <font color=blue> Generate Years Of Exceedance data  </font>\n"
   ]
  },
  {
   "cell_type": "code",
   "execution_count": null,
   "metadata": {},
   "outputs": [],
   "source": [
    "fn.postprocess(workflow, ssps, expFolder, \"2_YearsOfExceedance\", \"compute_YearsOfExceedance\")        "
   ]
  },
  {
   "cell_type": "markdown",
   "metadata": {},
   "source": [
    "---\n",
    "## <font color=blue> Generate:: 003_pbox  </font>"
   ]
  },
  {
   "cell_type": "code",
   "execution_count": null,
   "metadata": {
    "scrolled": false
   },
   "outputs": [],
   "source": [
    "pbox = [\"pb_1e\", \"pb_1f\", \"pb_2e\", \"pb_2f\"]\n",
    "outFolderName=\"3_pbox_xcdance\"\n",
    "fn.process_pbox(pbox,outFolderName,ssps)"
   ]
  },
  {
   "cell_type": "markdown",
   "metadata": {},
   "source": [
    "---\n",
    "## <font color=blue> Generate:: 004_confidence_level_files  </font>"
   ]
  },
  {
   "cell_type": "code",
   "execution_count": null,
   "metadata": {},
   "outputs": [],
   "source": [
    "pboxdir=os.getcwd()+'/3_pbox_xcdance'\n",
    "outdir = fn.create_directory_structure(os.getcwd(),'4_confidence_level_files_xcdance')[0]\n",
    "fn.GenerateConfidenceFiles(pboxdir, outdir)"
   ]
  }
 ],
 "metadata": {
  "kernelspec": {
   "display_name": "plot_M2",
   "language": "python",
   "name": "python3"
  },
  "language_info": {
   "codemirror_mode": {
    "name": "ipython",
    "version": 3
   },
   "file_extension": ".py",
   "mimetype": "text/x-python",
   "name": "python",
   "nbconvert_exporter": "python",
   "pygments_lexer": "ipython3",
   "version": "3.9.18"
  }
 },
 "nbformat": 4,
 "nbformat_minor": 2
}
